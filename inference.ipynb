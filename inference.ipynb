{
 "cells": [
  {
   "cell_type": "code",
   "execution_count": 1,
   "id": "e97d8e8f",
   "metadata": {},
   "outputs": [],
   "source": [
    "!pip3 install --upgrade pip"
   ]
  },
  {
   "cell_type": "code",
   "execution_count": 2,
   "id": "5fa06752",
   "metadata": {},
   "outputs": [],
   "source": [
    "!pip install ipywidgets"
   ]
  },
  {
   "cell_type": "code",
   "execution_count": 3,
   "id": "fc836f91",
   "metadata": {
    "id": "fc836f91"
   },
   "outputs": [],
   "source": [
    "!pip3 install ragas==0.1.7"
   ]
  },
  {
   "cell_type": "code",
   "execution_count": 4,
   "id": "5c9c6d62",
   "metadata": {},
   "outputs": [],
   "source": [
    "import subprocess\n",
    "import sys\n",
    "\n",
    "subprocess.check_call(\n",
    "    [sys.executable, \"-m\", \"pip\", \"install\", \"pysqlite3-binary\"]\n",
    ")\n",
    "__import__(\"pysqlite3\")\n",
    "sys.modules[\"sqlite3\"] = sys.modules.pop(\"pysqlite3\")\n"
   ]
  },
  {
   "cell_type": "code",
   "execution_count": 5,
   "id": "4b4607a4",
   "metadata": {},
   "outputs": [],
   "source": [
    "!pip install -U transformers sentence-transformers"
   ]
  },
  {
   "cell_type": "code",
   "execution_count": 6,
   "id": "233e361c",
   "metadata": {},
   "outputs": [],
   "source": [
    "import os\n",
    "os.environ[\"OPENAI_API_KEY\"] = \"\"\n",
    "os.environ['HUGGINGFACEHUB_API_TOKEN'] = \"\""
   ]
  },
  {
   "cell_type": "code",
   "execution_count": 7,
   "id": "8885d4e0",
   "metadata": {
    "id": "8885d4e0",
    "lines_to_next_cell": 2
   },
   "outputs": [],
   "source": [
    "from langchain_community.document_loaders import PyPDFLoader\n",
    "from langchain_community.vectorstores import FAISS\n",
    "from langchain.chains import RetrievalQA\n",
    "from langchain_text_splitters import CharacterTextSplitter\n",
    "from langchain_community.embeddings import HuggingFaceEmbeddings\n",
    "#from ragas.langchain.evalchain import RagasEvaluatorChain\n",
    "from langchain_community.llms.huggingface_pipeline import HuggingFacePipeline\n",
    "from langchain_community.chat_models.huggingface import ChatHuggingFace"
   ]
  },
  {
   "cell_type": "code",
   "execution_count": 8,
   "id": "mGFby51QPQyr",
   "metadata": {
    "id": "mGFby51QPQyr"
   },
   "outputs": [],
   "source": [
    "import uuid\n",
    "from langchain.retrievers.multi_vector import SearchType\n",
    "from langchain_core.output_parsers import StrOutputParser\n",
    "from langchain_core.documents import Document"
   ]
  },
  {
   "cell_type": "code",
   "execution_count": 9,
   "id": "18da44c3",
   "metadata": {},
   "outputs": [],
   "source": [
    "from langchain_chroma import Chroma\n",
    "import chromadb\n",
    "import chromadb.config"
   ]
  },
  {
   "cell_type": "code",
   "execution_count": 10,
   "id": "p7GTjiviT7-b",
   "metadata": {
    "id": "p7GTjiviT7-b"
   },
   "outputs": [],
   "source": [
    "from langchain.output_parsers.openai_functions import JsonKeyOutputFunctionsParser"
   ]
  },
  {
   "cell_type": "code",
   "execution_count": 11,
   "id": "fbed8e41",
   "metadata": {},
   "outputs": [],
   "source": [
    "from langchain.storage import InMemoryByteStore\n",
    "from langchain_text_splitters import RecursiveCharacterTextSplitter\n",
    "from langchain.retrievers.multi_vector import MultiVectorRetriever\n",
    "from langchain.retrievers import ContextualCompressionRetriever\n",
    "from langchain.prompts import PromptTemplate\n",
    "from langchain.retrievers.document_compressors import EmbeddingsFilter\n",
    "from langchain.chat_models import ChatOpenAI\n",
    "from langchain.prompts import ChatPromptTemplate\n",
    "from langchain.schema.runnable import RunnablePassthrough\n",
    "from langchain.schema.output_parser import StrOutputParser"
   ]
  },
  {
   "cell_type": "code",
   "execution_count": 12,
   "id": "501ebad4",
   "metadata": {},
   "outputs": [],
   "source": [
    "from ragas import evaluate\n",
    "from ragas.metrics import answer_relevancy, context_relevancy, context_recall, faithfulness"
   ]
  },
  {
   "cell_type": "code",
   "execution_count": 13,
   "id": "21bb0535",
   "metadata": {},
   "outputs": [],
   "source": [
    "from langchain.llms import HuggingFaceHub\n",
    "from langchain.chat_models import ChatOpenAI\n"
   ]
  },
  {
   "cell_type": "code",
   "execution_count": 14,
   "id": "c2939b9f",
   "metadata": {},
   "outputs": [],
   "source": [
    "from datasets import Dataset, load_dataset\n",
    "from tqdm import tqdm\n",
    "import re\n",
    "import ast\n",
    "import pandas as pd"
   ]
  },
  {
   "cell_type": "markdown",
   "id": "t8BUKu_VVYAA",
   "metadata": {
    "id": "t8BUKu_VVYAA"
   },
   "source": [
    "### Settings"
   ]
  },
  {
   "cell_type": "code",
   "execution_count": 15,
   "id": "s8VQDBEcVXOe",
   "metadata": {
    "id": "s8VQDBEcVXOe"
   },
   "outputs": [],
   "source": [
    "config = {\n",
    "        'model' : 'meta-llama/Meta-Llama-3-8B-Instruct', \n",
    "        #microsoft/Phi-3-mini-4k-instruct, mistralai/Mistral-7B-Instruct-v0.2,meta-llama/Meta-Llama-3-8B-Instruct\n",
    "        'type': 'single', #'multi' or 'single'\n",
    "    }"
   ]
  },
  {
   "cell_type": "markdown",
   "id": "1dTetQN-T5qj",
   "metadata": {
    "id": "1dTetQN-T5qj"
   },
   "source": [
    "### Document Settings"
   ]
  },
  {
   "cell_type": "code",
   "execution_count": 16,
   "id": "63e0aba7",
   "metadata": {
    "id": "63e0aba7"
   },
   "outputs": [],
   "source": [
    "loader = PyPDFLoader(\"./pdfdata_sum.pdf\")\n",
    "documents = loader.load()\n",
    "len(documents)"
   ]
  },
  {
   "cell_type": "code",
   "execution_count": 17,
   "id": "537552c1",
   "metadata": {
    "id": "537552c1"
   },
   "outputs": [],
   "source": [
    "text_splitter = CharacterTextSplitter(chunk_size=1000, chunk_overlap=0)\n",
    "texts = text_splitter.split_documents(documents)\n",
    "len(texts)"
   ]
  },
  {
   "cell_type": "code",
   "execution_count": 18,
   "id": "c206f2d1",
   "metadata": {
    "id": "c206f2d1"
   },
   "outputs": [],
   "source": [
    "embeddings = HuggingFaceEmbeddings(\n",
    "    model_name='jhgan/ko-sbert-nli',\n",
    "    model_kwargs={'device':'cuda'},\n",
    "    encode_kwargs={'normalize_embeddings':True},\n",
    ")\n",
    "#db = FAISS.from_documents(texts, embeddings)\n",
    "db = Chroma.from_documents(texts,embeddings)"
   ]
  },
  {
   "cell_type": "markdown",
   "id": "1e0658a6",
   "metadata": {},
   "source": [
    "### Model Setting"
   ]
  },
  {
   "cell_type": "code",
   "execution_count": 19,
   "id": "a7e92925",
   "metadata": {
    "id": "a7e92925",
    "outputId": "218efc07-a486-44ce-b1a0-ba4c185aa471"
   },
   "outputs": [],
   "source": [
    "llm = HuggingFacePipeline.from_model_id(\n",
    "    model_id=config['model'],\n",
    "    task=\"text-generation\",\n",
    "    device=0,\n",
    "    pipeline_kwargs={\n",
    "        \"max_new_tokens\": 1024,\n",
    "        \"repetition_penalty\": 1.03,\n",
    "        \"do_sample\" : False\n",
    "    },\n",
    ")"
   ]
  },
  {
   "cell_type": "markdown",
   "id": "pmknztm0MaTD",
   "metadata": {
    "id": "pmknztm0MaTD"
   },
   "source": [
    "### MultiVector Retrieval"
   ]
  },
  {
   "cell_type": "code",
   "execution_count": 20,
   "id": "_xmIWiUdMeK9",
   "metadata": {
    "id": "_xmIWiUdMeK9"
   },
   "outputs": [],
   "source": [
    "def smaller_chunks(docs):\n",
    "    # The vectorstore to use to index the child chunks\n",
    "    vectorstore = Chroma(collection_name=\"full_documents\", embedding_function=HuggingFaceEmbeddings(\n",
    "    model_name='jhgan/ko-sbert-nli',\n",
    "    model_kwargs={'device':'cuda'},\n",
    "    encode_kwargs={'normalize_embeddings':True},\n",
    "))\n",
    "    #vectorstore = FAISS.from_texts(docs,embeddings)  \n",
    "    \n",
    "    # The storage layer for the parent documents\n",
    "    store = InMemoryByteStore()\n",
    "    id_key = \"doc_id\"\n",
    "\n",
    "    # The retriever (empty to start)\n",
    "    retriever = MultiVectorRetriever(\n",
    "        vectorstore=vectorstore,\n",
    "        byte_store=store,\n",
    "        id_key=id_key,\n",
    "        search_kwargs = {\"k\": 1}\n",
    "    )\n",
    "\n",
    "    doc_ids = [str(uuid.uuid4()) for _ in docs]\n",
    "    \n",
    "    # The splitter to use to create smaller chunks\n",
    "    child_text_splitter = RecursiveCharacterTextSplitter(chunk_size=400)\n",
    "    \n",
    "    sub_docs = []\n",
    "    for i, doc in enumerate(docs):\n",
    "        _id = doc_ids[i]\n",
    "        _sub_docs = child_text_splitter.split_documents([doc])\n",
    "        for _doc in _sub_docs:\n",
    "            _doc.metadata[id_key] = _id\n",
    "            sub_docs.extend(_sub_docs)\n",
    "        \n",
    "    retriever.vectorstore.add_documents(sub_docs)\n",
    "    retriever.docstore.mset(list(zip(doc_ids, docs)))\n",
    "\n",
    "    return retriever"
   ]
  },
  {
   "cell_type": "markdown",
   "id": "g6X8XuBCT3mj",
   "metadata": {
    "id": "g6X8XuBCT3mj"
   },
   "source": [
    "### Retrieval"
   ]
  },
  {
   "cell_type": "code",
   "execution_count": 22,
   "id": "gzUykNdiVUoJ",
   "metadata": {
    "colab": {
     "base_uri": "https://localhost:8080/",
     "height": 108
    },
    "id": "gzUykNdiVUoJ",
    "outputId": "b61084ca-5f6d-4688-a61a-7509f39b4eaa"
   },
   "outputs": [],
   "source": [
    "if config['type'] == 'single': #벡터스토어\n",
    "    retriever=db.as_retriever(search_type='mmr', search_kwargs={\"k\": 1})\n",
    "\n",
    "elif config['type'] == 'multi': #멀티벡터\n",
    "    retriever = smaller_chunks(texts)\n",
    "    retriever.search_type = SearchType.mmr"
   ]
  },
  {
   "cell_type": "code",
   "execution_count": 23,
   "id": "758a799e",
   "metadata": {},
   "outputs": [],
   "source": [
    "print(config)"
   ]
  },
  {
   "cell_type": "code",
   "execution_count": 24,
   "id": "e583ee2d",
   "metadata": {},
   "outputs": [],
   "source": [
    "# Define prompt template\n",
    "template = \"\"\"You are an assistant for question-answering tasks. \n",
    "Use the following pieces of retrieved context to answer the question. \n",
    "If you don't know the answer, just say that you don't know. \n",
    "Use two sentences maximum and keep the answer concise.\n",
    "Answer should be written in KOREAN. \n",
    "\n",
    "Question: {question} \n",
    "Context: {context} \n",
    "Answer:\n",
    "\"\"\"\n",
    "\n",
    "prompt = PromptTemplate.from_template(template)"
   ]
  },
  {
   "cell_type": "code",
   "execution_count": 25,
   "id": "383dfbc3",
   "metadata": {},
   "outputs": [],
   "source": [
    "# Setup RAG pipeline\n",
    "rag_chain = (\n",
    "    {\"context\": retriever,  \"question\": RunnablePassthrough()} \n",
    "    | prompt \n",
    "    | llm\n",
    "    | StrOutputParser()\n",
    ")"
   ]
  },
  {
   "cell_type": "markdown",
   "id": "hd2OY-7-T1uZ",
   "metadata": {
    "id": "hd2OY-7-T1uZ"
   },
   "source": [
    "### Preparing Evaluation Data"
   ]
  },
  {
   "cell_type": "code",
   "execution_count": 26,
   "id": "e3b61fbd",
   "metadata": {},
   "outputs": [],
   "source": [
    "testset = load_dataset(\"csv\", data_files=\"dataset_sum.csv\")"
   ]
  },
  {
   "cell_type": "code",
   "execution_count": 27,
   "id": "3b32b60e",
   "metadata": {},
   "outputs": [],
   "source": [
    "questions = testset['train']['question']\n",
    "context = testset['train']['contexts']\n",
    "ground_truths = []\n",
    "for i, q in enumerate(questions):\n",
    "    ground_truth = testset['train']['ground_truth'][i]\n",
    "    if ground_truth == None:\n",
    "        ground_truth = 'None'\n",
    "    ground_truths.append([ground_truth])"
   ]
  },
  {
   "cell_type": "code",
   "execution_count": 28,
   "id": "405c3be4",
   "metadata": {},
   "outputs": [],
   "source": [
    "contexts = [ast.literal_eval(s) for s in context]\n",
    "contexts"
   ]
  },
  {
   "cell_type": "code",
   "execution_count": 29,
   "id": "b3313846",
   "metadata": {},
   "outputs": [],
   "source": [
    "questions"
   ]
  },
  {
   "cell_type": "code",
   "execution_count": 30,
   "id": "81494255",
   "metadata": {},
   "outputs": [],
   "source": [
    "ground_truths"
   ]
  },
  {
   "cell_type": "markdown",
   "id": "70f87c37",
   "metadata": {},
   "source": [
    "### Preparing for Evaluation"
   ]
  },
  {
   "cell_type": "code",
   "execution_count": 31,
   "id": "67a782a5",
   "metadata": {},
   "outputs": [],
   "source": [
    "def extract_answer(text):\n",
    "    match = re.search(r'Answer:\\n(.*?)(?=\\n\\n|Question|$)', text, re.DOTALL)\n",
    "    if match:\n",
    "        return match.group(1)\n",
    "    else:\n",
    "        return None"
   ]
  },
  {
   "cell_type": "code",
   "execution_count": 32,
   "id": "7dcfc217",
   "metadata": {},
   "outputs": [],
   "source": [
    "# Inference\n",
    "answers = []\n",
    "for query in tqdm(questions, desc=\"Processing queries\"):\n",
    "    query_context_answer = rag_chain.invoke(query)\n",
    "    answer = extract_answer(query_context_answer)\n",
    "    answers.append(answer)\n",
    "    print(query_context_answer)\n",
    "answers  "
   ]
  },
  {
   "cell_type": "code",
   "execution_count": null,
   "id": "974e7212",
   "metadata": {},
   "outputs": [],
   "source": [
    "# To dict\n",
    "data = {\n",
    "    \"question\": questions,\n",
    "    \"answer\": answers,\n",
    "    \"contexts\": contexts,\n",
    "    \"ground_truths\": ground_truths\n",
    "}"
   ]
  },
  {
   "cell_type": "markdown",
   "id": "edeee3cf",
   "metadata": {},
   "source": [
    "### Save generated set as a cache data"
   ]
  },
  {
   "cell_type": "code",
   "execution_count": null,
   "id": "49706147",
   "metadata": {},
   "outputs": [],
   "source": [
    "df_data = pd.DataFrame.from_dict(data)\n",
    "df_data"
   ]
  },
  {
   "cell_type": "code",
   "execution_count": null,
   "id": "1dd7c5ff",
   "metadata": {},
   "outputs": [],
   "source": [
    "name='testset_' + config['model'][:6]+'_'+config['type']+'.csv'\n",
    "name"
   ]
  },
  {
   "cell_type": "code",
   "execution_count": null,
   "id": "026924d0",
   "metadata": {},
   "outputs": [],
   "source": [
    "df_data.to_csv(name,index=False)"
   ]
  },
  {
   "cell_type": "code",
   "execution_count": null,
   "id": "6a373e89",
   "metadata": {},
   "outputs": [],
   "source": [
    "dataset = Dataset.from_dict(data)"
   ]
  },
  {
   "cell_type": "markdown",
   "id": "7a44d8c6",
   "metadata": {},
   "source": [
    "### Evaluation"
   ]
  },
  {
   "cell_type": "code",
   "execution_count": null,
   "id": "73237017",
   "metadata": {},
   "outputs": [],
   "source": [
    "result = evaluate(\n",
    "    dataset = dataset, \n",
    "    metrics=[\n",
    "        context_relevancy,\n",
    "        context_recall,\n",
    "        faithfulness,\n",
    "        answer_relevancy,\n",
    "    ],\n",
    "    raise_exceptions=False\n",
    ")\n",
    "\n",
    "df = result.to_pandas()\n",
    "df"
   ]
  },
  {
   "cell_type": "code",
   "execution_count": null,
   "id": "7f1e4d61",
   "metadata": {},
   "outputs": [],
   "source": [
    "result"
   ]
  },
  {
   "cell_type": "code",
   "execution_count": null,
   "id": "869ed624",
   "metadata": {},
   "outputs": [],
   "source": [
    "name=config['model'][:6]+'_'+config['type']+'.csv'\n",
    "name"
   ]
  },
  {
   "cell_type": "code",
   "execution_count": null,
   "id": "45152cce",
   "metadata": {
    "id": "ec4711b1"
   },
   "outputs": [],
   "source": [
    "df.to_csv(name,index=False)"
   ]
  }
 ],
 "metadata": {
  "colab": {
   "provenance": []
  },
  "jupytext": {
   "cell_metadata_filter": "-all",
   "main_language": "python",
   "notebook_metadata_filter": "-all"
  },
  "kernelspec": {
   "display_name": "Python 3 (ipykernel)",
   "language": "python",
   "name": "python3"
  },
  "language_info": {
   "codemirror_mode": {
    "name": "ipython",
    "version": 3
   },
   "file_extension": ".py",
   "mimetype": "text/x-python",
   "name": "python",
   "nbconvert_exporter": "python",
   "pygments_lexer": "ipython3",
   "version": "3.8.10"
  }
 },
 "nbformat": 4,
 "nbformat_minor": 5
}
